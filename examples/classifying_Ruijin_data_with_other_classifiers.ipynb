{
 "cells": [
  {
   "cell_type": "code",
   "execution_count": 1,
   "outputs": [],
   "source": [
    "import matplotlib.pyplot as plt\n",
    "import numpy as np\n",
    "import pandas as pd\n",
    "from sklearn.metrics import classification_report, plot_roc_curve\n",
    "from sklearn.model_selection import train_test_split, cross_val_score, StratifiedKFold\n",
    "from sklearn.model_selection import cross_validate\n",
    "from sklearn.metrics import accuracy_score\n",
    "from sklearn.preprocessing import MinMaxScaler\n",
    "from sklearn.metrics import f1_score\n",
    "from sklearn.model_selection import cross_val_score\n",
    "import seaborn as sns\n",
    "from sklearn.ensemble import RandomForestClassifier\n",
    "from sklearn.model_selection import GridSearchCV\n",
    "%matplotlib inline\n",
    "sns.set()"
   ],
   "metadata": {
    "collapsed": false,
    "pycharm": {
     "name": "#%%\n"
    }
   }
  },
  {
   "cell_type": "markdown",
   "source": [
    "### Read Data"
   ],
   "metadata": {
    "collapsed": false,
    "pycharm": {
     "name": "#%% md\n"
    }
   }
  },
  {
   "cell_type": "code",
   "source": [
    "def readDataRuiJinAD(filePath):\n",
    "    \"\"\"AD VS Normal\"\"\"\n",
    "    df = pd.read_csv(filePath)\n",
    "    names = df.columns[1:]\n",
    "    y = df['category']\n",
    "    y = np.where(y == \"AD\", 0, y)\n",
    "    y = np.where(y == \"Normal\", 1, y)\n",
    "    y = y.astype('int')\n",
    "    X = df.iloc[:, 1:].values\n",
    "    scalar = MinMaxScaler((-1, 1))\n",
    "    X = scalar.fit_transform(X)\n",
    "    return X, y, names, df\n",
    "\n",
    "\n",
    "path2pickle = '../dataset/sample_smile_result.pkl'\n",
    "X, y, names, _ = readDataRuiJinAD('../dataset/sample_alzheimer_vs_normal_data.csv')\n",
    "#X_train, X_test, y_train, y_test = train_test_split(X, y, test_size=0.2, random_state=0)"
   ],
   "metadata": {
    "collapsed": false,
    "pycharm": {
     "name": "#%%\n"
    }
   },
   "execution_count": 2,
   "outputs": []
  },
  {
   "cell_type": "markdown",
   "source": [
    "### Random Forest"
   ],
   "metadata": {
    "collapsed": false,
    "pycharm": {
     "name": "#%% md\n"
    }
   }
  },
  {
   "cell_type": "code",
   "execution_count": 3,
   "outputs": [],
   "source": [
    "model_rf = RandomForestClassifier(random_state=0)"
   ],
   "metadata": {
    "collapsed": false,
    "pycharm": {
     "name": "#%%\n"
    }
   }
  },
  {
   "cell_type": "code",
   "execution_count": 4,
   "outputs": [
    {
     "data": {
      "text/plain": "GridSearchCV(cv=5, estimator=RandomForestClassifier(random_state=0), n_jobs=-1,\n             param_grid={'max_depth': [3, 4, 5, 6, 7, 8, 9, 10, 11, 12, 13, 14],\n                         'max_features': ['sqrt', 'log2'],\n                         'min_samples_split': [2, 4, 6],\n                         'n_estimators': [50, 100, 150]},\n             scoring='f1')"
     },
     "execution_count": 4,
     "metadata": {},
     "output_type": "execute_result"
    }
   ],
   "source": [
    "# find the best hyper-parameter\n",
    "parameters = {'max_depth': [i for i in range(3, 15)],\n",
    "              'min_samples_split': [2, 4, 6],\n",
    "              'n_estimators': [i * 50 for i in range(1, 4)],\n",
    "              'max_features': ['sqrt', 'log2']}\n",
    "\n",
    "gs_rf = GridSearchCV(model_rf, parameters, n_jobs=-1, cv=5, scoring=\"f1\")\n",
    "gs_rf.fit(X, y)"
   ],
   "metadata": {
    "collapsed": false,
    "pycharm": {
     "name": "#%%\n"
    }
   }
  },
  {
   "cell_type": "code",
   "execution_count": 5,
   "outputs": [
    {
     "name": "stdout",
     "output_type": "stream",
     "text": [
      "{'bootstrap': True, 'ccp_alpha': 0.0, 'class_weight': None, 'criterion': 'gini', 'max_depth': 4, 'max_features': 'sqrt', 'max_leaf_nodes': None, 'max_samples': None, 'min_impurity_decrease': 0.0, 'min_impurity_split': None, 'min_samples_leaf': 1, 'min_samples_split': 2, 'min_weight_fraction_leaf': 0.0, 'n_estimators': 50, 'n_jobs': None, 'oob_score': False, 'random_state': 0, 'verbose': 0, 'warm_start': False}\n",
      "1.0\n"
     ]
    }
   ],
   "source": [
    "rf_clf = gs_rf.best_estimator_\n",
    "print(gs_rf.best_estimator_.get_params())\n",
    "print(gs_rf.best_score_)"
   ],
   "metadata": {
    "collapsed": false,
    "pycharm": {
     "name": "#%%\n"
    }
   }
  },
  {
   "cell_type": "code",
   "execution_count": 6,
   "outputs": [],
   "source": [
    "cv_results  = cross_validate(rf_clf, X, y, cv=5, return_estimator=True, scoring='f1')\n"
   ],
   "metadata": {
    "collapsed": false,
    "pycharm": {
     "name": "#%%\n"
    }
   }
  },
  {
   "cell_type": "code",
   "execution_count": 7,
   "outputs": [
    {
     "data": {
      "text/plain": "(RandomForestClassifier(max_depth=4, max_features='sqrt', n_estimators=50,\n                        random_state=0),\n RandomForestClassifier(max_depth=4, max_features='sqrt', n_estimators=50,\n                        random_state=0),\n RandomForestClassifier(max_depth=4, max_features='sqrt', n_estimators=50,\n                        random_state=0),\n RandomForestClassifier(max_depth=4, max_features='sqrt', n_estimators=50,\n                        random_state=0),\n RandomForestClassifier(max_depth=4, max_features='sqrt', n_estimators=50,\n                        random_state=0))"
     },
     "execution_count": 7,
     "metadata": {},
     "output_type": "execute_result"
    }
   ],
   "source": [
    "cv_results['estimator']"
   ],
   "metadata": {
    "collapsed": false,
    "pycharm": {
     "name": "#%%\n"
    }
   }
  },
  {
   "cell_type": "code",
   "execution_count": 8,
   "outputs": [
    {
     "data": {
      "text/plain": "array([1., 1., 1., 1., 1.])"
     },
     "execution_count": 8,
     "metadata": {},
     "output_type": "execute_result"
    }
   ],
   "source": [
    "cv_results['test_score']"
   ],
   "metadata": {
    "collapsed": false,
    "pycharm": {
     "name": "#%%\n"
    }
   }
  },
  {
   "cell_type": "code",
   "execution_count": 9,
   "outputs": [],
   "source": [
    "# ---- averaging feature importance in all cross validation groups --------\n",
    "rf_list = []\n",
    "for estimator in cv_results['estimator']:\n",
    "    rf_list.append( pd.Series(rf_clf.feature_importances_, index=names).sort_values(ascending=False))\n",
    "pd_group = pd.concat(rf_list)\n",
    "group_info = pd_group.groupby(pd_group.index)\n",
    "df_means = group_info.mean().sort_values(ascending=False)"
   ],
   "metadata": {
    "collapsed": false,
    "pycharm": {
     "name": "#%%\n"
    }
   }
  },
  {
   "cell_type": "code",
   "execution_count": 10,
   "outputs": [],
   "source": [
    "df_means = df_means.head(20)"
   ],
   "metadata": {
    "collapsed": false,
    "pycharm": {
     "name": "#%%\n"
    }
   }
  },
  {
   "cell_type": "code",
   "execution_count": 11,
   "outputs": [
    {
     "data": {
      "text/plain": "<Figure size 432x288 with 1 Axes>",
      "image/png": "[encoded data removed]"
     },
     "metadata": {},
     "output_type": "display_data"
    }
   ],
   "source": [
    "ax = sns.barplot(x=df_means[:20], y=df_means.index[:20], palette=\"Blues_d\")\n",
    "ax.set(xlabel='Importance', ylabel='Features')\n",
    "plt.tight_layout()\n",
    "plt.savefig('f_rank_rf_avg.tif', dpi=300)\n",
    "plt.show()"
   ],
   "metadata": {
    "collapsed": false,
    "pycharm": {
     "name": "#%%\n"
    }
   }
  },
  {
   "cell_type": "markdown",
   "source": [
    "### SVM"
   ],
   "metadata": {
    "collapsed": false,
    "pycharm": {
     "name": "#%% md\n"
    }
   }
  },
  {
   "cell_type": "code",
   "source": [
    "from sklearn import svm\n",
    "\n",
    "model_svm = svm.SVC(kernel='linear', random_state=0)"
   ],
   "metadata": {
    "collapsed": false,
    "pycharm": {
     "name": "#%%\n"
    }
   },
   "execution_count": 12,
   "outputs": []
  },
  {
   "cell_type": "code",
   "execution_count": 13,
   "outputs": [
    {
     "data": {
      "text/plain": "GridSearchCV(cv=5, estimator=SVC(kernel='linear', random_state=0), n_jobs=-1,\n             param_grid={'C': [0.1, 0.5, 1, 5, 10],\n                         'gamma': [1, 0.5, 0.1, 0.05, 0.01, 0.001]},\n             scoring='f1')"
     },
     "execution_count": 13,
     "metadata": {},
     "output_type": "execute_result"
    }
   ],
   "source": [
    "# find the best hyper-parameter\n",
    "parameters = {'C': [0.1, 0.5, 1, 5, 10],\n",
    "              'gamma': [1, 0.5, 0.1, 0.05, 0.01, 0.001]}\n",
    "gs_svm = GridSearchCV(model_svm, parameters, n_jobs=-1, cv=5, scoring=\"f1\")\n",
    "gs_svm.fit(X, y)"
   ],
   "metadata": {
    "collapsed": false,
    "pycharm": {
     "name": "#%%\n"
    }
   }
  },
  {
   "cell_type": "code",
   "execution_count": 14,
   "outputs": [
    {
     "name": "stdout",
     "output_type": "stream",
     "text": [
      "{'C': 0.1, 'break_ties': False, 'cache_size': 200, 'class_weight': None, 'coef0': 0.0, 'decision_function_shape': 'ovr', 'degree': 3, 'gamma': 1, 'kernel': 'linear', 'max_iter': -1, 'probability': False, 'random_state': 0, 'shrinking': True, 'tol': 0.001, 'verbose': False}\n",
      "0.9658181818181818\n"
     ]
    }
   ],
   "source": [
    "svm_clf = gs_svm.best_estimator_\n",
    "print(gs_svm.best_estimator_.get_params())\n",
    "print(gs_svm.best_score_)"
   ],
   "metadata": {
    "collapsed": false,
    "pycharm": {
     "name": "#%%\n"
    }
   }
  },
  {
   "cell_type": "code",
   "execution_count": 15,
   "outputs": [],
   "source": [
    "cv_results  = cross_validate(svm_clf, X, y, cv=5, return_estimator=True, scoring='f1')"
   ],
   "metadata": {
    "collapsed": false,
    "pycharm": {
     "name": "#%%\n"
    }
   }
  },
  {
   "cell_type": "code",
   "execution_count": 16,
   "outputs": [
    {
     "data": {
      "text/plain": "(SVC(C=0.1, gamma=1, kernel='linear', random_state=0),\n SVC(C=0.1, gamma=1, kernel='linear', random_state=0),\n SVC(C=0.1, gamma=1, kernel='linear', random_state=0),\n SVC(C=0.1, gamma=1, kernel='linear', random_state=0),\n SVC(C=0.1, gamma=1, kernel='linear', random_state=0))"
     },
     "execution_count": 16,
     "metadata": {},
     "output_type": "execute_result"
    }
   ],
   "source": [
    "cv_results['estimator']"
   ],
   "metadata": {
    "collapsed": false,
    "pycharm": {
     "name": "#%%\n"
    }
   }
  },
  {
   "cell_type": "code",
   "execution_count": 17,
   "outputs": [
    {
     "data": {
      "text/plain": "array([1.        , 1.        , 0.96      , 0.96      , 0.90909091])"
     },
     "execution_count": 17,
     "metadata": {},
     "output_type": "execute_result"
    }
   ],
   "source": [
    "cv_results['test_score']"
   ],
   "metadata": {
    "collapsed": false,
    "pycharm": {
     "name": "#%%\n"
    }
   }
  },
  {
   "cell_type": "code",
   "execution_count": 18,
   "outputs": [],
   "source": [
    "# ---- averaging feature importance in all cross validation groups --------\n",
    "svm_list = []\n",
    "for estimator in cv_results['estimator']:\n",
    "    svm_list.append(pd.Series(abs(estimator.coef_[0]), index=names).nlargest(20))"
   ],
   "metadata": {
    "collapsed": false,
    "pycharm": {
     "name": "#%%\n"
    }
   }
  },
  {
   "cell_type": "code",
   "execution_count": 19,
   "outputs": [],
   "source": [
    "pd_group = pd.concat(svm_list)\n",
    "group_info = pd_group.groupby(pd_group.index)\n",
    "df_means = group_info.mean().sort_values(ascending=False)"
   ],
   "metadata": {
    "collapsed": false,
    "pycharm": {
     "name": "#%%\n"
    }
   }
  },
  {
   "cell_type": "code",
   "execution_count": 20,
   "outputs": [],
   "source": [
    "# df_means = df_means.to_frame()\n",
    "df_means = df_means.head(20)"
   ],
   "metadata": {
    "collapsed": false,
    "pycharm": {
     "name": "#%%\n"
    }
   }
  },
  {
   "cell_type": "code",
   "execution_count": 21,
   "outputs": [
    {
     "data": {
      "text/plain": "<Figure size 432x288 with 1 Axes>",
      "image/png": "[encoded data removed]"
     },
     "metadata": {},
     "output_type": "display_data"
    }
   ],
   "source": [
    "ax = sns.barplot(x=df_means.values, y=df_means.index, palette=\"Blues_d\")\n",
    "ax.set(xlabel='Importance', ylabel='Features')\n",
    "plt.tight_layout()\n",
    "plt.savefig('f_rank_svm_avg.tif', dpi=400)\n",
    "plt.show()\n"
   ],
   "metadata": {
    "collapsed": false,
    "pycharm": {
     "name": "#%%\n"
    }
   }
  },
  {
   "cell_type": "code",
   "execution_count": 21,
   "outputs": [],
   "source": [
    "\n"
   ],
   "metadata": {
    "collapsed": false,
    "pycharm": {
     "name": "#%%\n"
    }
   }
  }
 ],
 "metadata": {
  "kernelspec": {
   "display_name": "Python 3",
   "language": "python",
   "name": "python3"
  },
  "language_info": {
   "codemirror_mode": {
    "name": "ipython",
    "version": 2
   },
   "file_extension": ".py",
   "mimetype": "text/x-python",
   "name": "python",
   "nbconvert_exporter": "python",
   "pygments_lexer": "ipython2",
   "version": "2.7.6"
  }
 },
 "nbformat": 4,
 "nbformat_minor": 0
}