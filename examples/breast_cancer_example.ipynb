{
 "cells": [
  {
   "cell_type": "code",
   "execution_count": 3,
   "metadata": {
    "collapsed": true,
    "pycharm": {
     "is_executing": false
    }
   },
   "outputs": [],
   "source": [
    "import matplotlib.pyplot as plt\n",
    "from linear_genetic_programming.lgp_classifier import LGPClassifier\n",
    "from sklearn.model_selection import train_test_split\n",
    "from sklearn.datasets import load_breast_cancer\n",
    "from sklearn.preprocessing import MinMaxScaler"
   ]
  },
  {
   "cell_type": "code",
   "execution_count": 4,
   "outputs": [],
   "source": [
    "# load data set. Note it only supports binary classification\n",
    "X, y = load_breast_cancer(return_X_y=True)\n",
    "# normalize\n",
    "scaler = MinMaxScaler((-1, 1))\n",
    "X = scaler.fit_transform(X)\n",
    "X_train, X_test, y_train, y_test = train_test_split(X, y, test_size=0.25, random_state=0)\n"
   ],
   "metadata": {
    "collapsed": false,
    "pycharm": {
     "name": "#%%\n",
     "is_executing": false
    }
   }
  },
  {
   "cell_type": "code",
   "execution_count": 5,
   "outputs": [],
   "source": [
    "# set populationSize and maxGeneration higher when having compute power\n",
    "lgp = LGPClassifier(numberOfInput = X_train.shape[1], numberOfVariable = 18, populationSize = 300,\n",
    "                    maxGeneration = 100, showGenerationStat = True, tournamentSize=8, isRandomSampling=True) \n"
   ],
   "metadata": {
    "collapsed": false,
    "pycharm": {
     "name": "#%%\n",
     "is_executing": false
    }
   }
  },
  {
   "cell_type": "markdown",
   "source": [
    "### GenerationStat parameter:\n",
    "* Gen: Generation.\n",
    "* Best Indv: best individual fitness (calculated using random sampled training set)\n",
    "* CE: Classification error: misclassified samples\n",
    "* Pop Avg: Population average fitness. Showing how good population evolves.\n",
    "* Ran Sampling: Shows random sampling size. It is a random number from 1/2 population to \n",
    "whole population. Use random sampling Technique to prevent overfitting.\n",
    "* AvgProLen: Average program length in population.\n",
    "* AvgEffProg: Average effective program length in population."
   ],
   "metadata": {
    "collapsed": false
   }
  },
  {
   "cell_type": "code",
   "execution_count": 6,
   "outputs": [
    {
     "name": "stdout",
     "text": [
      "Gen|Best Indv|  CE  |Pop Avg|Ran Sampling|AvgProgLen|AvgEffProgLen\n--- --------- ------ ------- ------------ ---------- -------------\n",
      "  0|     0.89|    43|   0.77|         218|     33.03|         1.11\n",
      "  1|     0.93|    24|   0.87|         228|     32.59|         1.26\n",
      "  2|     0.93|    16|   0.91|         245|     39.42|         1.62\n",
      "  3|     0.94|    23|   0.92|         355|     45.87|         1.36\n",
      "  4|     0.94|    21|   0.92|         396|     48.30|         1.25\n",
      "  5|     0.94|    16|   0.92|         378|     50.90|         1.21\n",
      "  6|     0.94|    14|   0.92|         382|     53.22|         1.13\n",
      "  7|     0.94|    14|   0.92|         262|     53.12|         1.11\n",
      "  8|     0.94|    13|   0.92|         318|     54.58|         1.06\n",
      "  9|     0.95|    10|   0.92|         311|     56.38|         1.04\n",
      " 10|     0.95|    10|   0.92|         425|     54.24|         1.04\n",
      " 11|     0.95|    10|   0.92|         214|     53.80|         1.06\n",
      " 12|     0.95|    10|   0.92|         283|     55.93|         1.02\n",
      " 13|     0.95|    10|   0.92|         218|     56.90|         1.07\n",
      " 14|     0.95|    10|   0.93|         415|     56.66|         1.03\n",
      " 15|     0.95|    10|   0.93|         261|     56.92|         1.04\n",
      " 16|     0.95|    10|   0.93|         313|     58.38|         1.02\n",
      " 17|     0.95|    10|   0.92|         227|     57.53|         1.03\n",
      " 18|     0.95|    10|   0.93|         266|     55.78|         1.00\n",
      " 19|     0.95|    10|   0.93|         394|     54.39|         1.02\n",
      " 20|     0.95|    10|   0.93|         359|     55.83|         1.00\n",
      " 21|     0.95|    10|   0.93|         249|     55.33|         1.00\n",
      " 22|     0.95|    10|   0.93|         349|     55.14|         1.01\n",
      " 23|     0.95|    10|   0.92|         239|     54.32|         1.03\n",
      " 24|     0.95|    10|   0.93|         413|     54.05|         1.03\n",
      " 25|     0.95|    10|   0.92|         235|     54.08|         1.04\n",
      " 26|     0.95|    10|   0.92|         290|     53.67|         1.06\n",
      " 27|     0.95|    10|   0.93|         365|     54.19|         1.02\n",
      " 28|     0.95|    10|   0.92|         420|     51.76|         1.03\n",
      " 29|     0.95|    10|   0.93|         274|     51.07|         1.03\n",
      " 30|     0.95|    10|   0.93|         290|     53.36|         1.00\n",
      " 31|     0.95|    10|   0.93|         307|     53.45|         1.04\n",
      " 32|     0.95|    10|   0.93|         313|     53.85|         1.04\n",
      " 33|     0.95|    10|   0.92|         417|     55.21|         1.05\n",
      " 34|     0.95|    10|   0.93|         247|     54.24|         1.07\n",
      " 35|     0.95|    10|   0.92|         393|     52.02|         1.06\n",
      " 36|     0.96|    11|   0.93|         217|     51.05|         1.03\n",
      " 37|     0.96|    11|   0.93|         318|     53.40|         1.04\n",
      " 38|     0.96|    11|   0.93|         377|     53.34|         1.03\n",
      " 39|     0.96|    11|   0.93|         213|     52.31|         1.04\n",
      " 40|     0.96|    11|   0.93|         261|     52.51|         1.05\n",
      " 41|     0.96|    11|   0.93|         314|     52.23|         1.05\n",
      " 42|     0.96|    11|   0.93|         325|     52.69|         1.05\n",
      " 43|     0.96|    11|   0.93|         413|     54.14|         1.04\n",
      " 44|     0.96|    11|   0.93|         277|     52.08|         1.05\n",
      " 45|     0.96|    11|   0.92|         311|     53.98|         1.06\n",
      " 46|     0.96|    11|   0.93|         397|     53.81|         1.03\n",
      " 47|     0.96|    11|   0.93|         318|     52.67|         1.09\n",
      " 48|     0.97|     7|   0.93|         284|     53.97|         1.03\n",
      " 49|     0.97|     7|   0.93|         218|     52.04|         1.06\n",
      " 50|     0.97|     7|   0.92|         298|     53.37|         1.08\n",
      " 51|     0.97|     7|   0.93|         249|     53.68|         1.06\n",
      " 52|     0.97|     7|   0.93|         295|     54.43|         1.04\n",
      " 53|     0.97|     7|   0.93|         407|     54.18|         1.06\n",
      " 54|     0.97|     7|   0.93|         231|     54.35|         1.09\n",
      " 55|     0.97|     7|   0.93|         360|     53.32|         1.05\n",
      " 56|     0.97|     7|   0.93|         265|     55.14|         1.03\n",
      " 57|     0.97|     7|   0.93|         399|     54.16|         1.06\n",
      " 58|     0.97|     7|   0.93|         262|     54.86|         1.07\n",
      " 59|     0.97|     7|   0.93|         367|     53.91|         1.05\n",
      " 60|     0.97|     7|   0.93|         282|     55.27|         1.03\n",
      " 61|     0.97|     7|   0.93|         340|     56.38|         1.09\n",
      " 62|     0.97|     7|   0.93|         250|     54.63|         1.05\n",
      " 63|     0.97|     7|   0.93|         328|     55.79|         1.04\n",
      " 64|     0.97|     7|   0.93|         226|     53.92|         1.04\n",
      " 65|     0.97|     7|   0.93|         261|     53.00|         1.07\n",
      " 66|     0.97|     7|   0.93|         317|     55.26|         1.03\n",
      " 67|     0.97|     7|   0.93|         341|     55.13|         1.06\n",
      " 68|     0.97|     7|   0.93|         333|     53.91|         1.07\n",
      " 69|     0.97|     7|   0.93|         400|     55.55|         1.05\n",
      " 70|     0.97|     7|   0.93|         409|     54.41|         1.06\n",
      " 71|     0.97|     7|   0.93|         223|     54.34|         1.08\n",
      " 72|     0.97|     7|   0.93|         333|     54.97|         1.05\n",
      " 73|     0.97|     7|   0.93|         377|     54.36|         1.06\n",
      " 74|     0.97|     7|   0.93|         215|     55.38|         1.07\n",
      " 75|     0.97|     7|   0.93|         292|     54.66|         1.06\n",
      " 76|     0.97|     7|   0.93|         312|     53.19|         1.07\n",
      " 77|     0.97|     7|   0.93|         319|     53.69|         1.04\n",
      " 78|     0.97|     7|   0.93|         302|     53.19|         1.06\n",
      " 79|     0.97|     7|   0.93|         278|     53.82|         1.05\n",
      " 80|     0.97|     7|   0.93|         348|     53.83|         1.07\n",
      " 81|     0.97|     7|   0.93|         269|     52.36|         1.04\n",
      " 82|     0.97|     7|   0.93|         237|     53.99|         1.02\n",
      " 83|     0.97|     7|   0.93|         358|     55.04|         1.03\n",
      " 84|     0.97|     7|   0.93|         300|     55.92|         1.08\n",
      " 85|     0.97|     7|   0.93|         304|     55.80|         1.04\n",
      " 86|     0.97|     7|   0.93|         365|     56.06|         1.07\n",
      " 87|     0.97|     7|   0.93|         377|     55.26|         1.05\n",
      " 88|     0.97|     7|   0.93|         249|     55.89|         1.05\n",
      " 89|     0.97|     7|   0.93|         329|     54.49|         1.06\n",
      " 90|     0.97|     7|   0.93|         298|     55.09|         1.06\n",
      " 91|     0.97|     7|   0.93|         287|     55.81|         1.05\n",
      " 92|     0.97|     7|   0.93|         392|     55.81|         1.05\n",
      " 93|     0.97|     7|   0.93|         378|     55.64|         1.08\n",
      " 94|     0.97|     7|   0.93|         295|     56.29|         1.06\n",
      " 95|     0.97|     7|   0.93|         228|     55.84|         1.07\n",
      " 96|     0.97|     7|   0.93|         396|     56.09|         1.06\n",
      " 97|     0.97|     7|   0.93|         378|     54.58|         1.07\n",
      " 98|     0.97|     7|   0.93|         254|     55.58|         1.09\n",
      " 99|     0.97|     7|   0.93|         400|     54.59|         1.05\n"
     ],
     "output_type": "stream"
    },
    {
     "data": {
      "text/plain": "LGPClassifier(constInitRange=(1, 11, 1), fitnessThreshold=1.0,\n              isRandomSampling=True, maxGeneration=100, maxProgLength=300,\n              max_prog_ini_length=30, minProgLength=10, min_prog_ini_length=10,\n              numberOfConstant=9, numberOfInput=30, numberOfOperation=5,\n              numberOfVariable=18, pConst=0.5, pCrossover=0.75, pInsert=0.5,\n              pMacro=0.75, pMicro=0.5, pRegmut=0.6, populationSize=300,\n              showGenerationStat=True, tournamentSize=8)"
     },
     "metadata": {},
     "output_type": "execute_result",
     "execution_count": 6
    }
   ],
   "source": [
    "lgp.fit(X_train, y_train)\n"
   ],
   "metadata": {
    "collapsed": false,
    "pycharm": {
     "name": "#%%\n",
     "is_executing": false
    }
   }
  },
  {
   "cell_type": "code",
   "execution_count": 7,
   "outputs": [
    {
     "name": "stdout",
     "text": [
      "I0:  <-, r14, 2.0, r18>\nI1:  <+, r2, r21, r22>\nI2:  <-, r1, 10.0, r29>\nI3:  <if greater, 10.0, r25>\nI4:  <if less, r36, r10>\nI5:  <^, r17, r8, r14>\nI6:  <if less, r40, 2.0>\nI7:  <+, r16, 3.0, r27>\nI8:  <if greater, 2.0, r2>\nI9:  <if greater, 2.0, r33>\nI10:  <if less, 6.0, r10>\nI11:  <if less, 10.0, r45>\nI12:  </, r14, 1.0, r22>\nI13:  <if less, r45, r45>\nI14:  </, r14, 1.0, r22>\nI15:  <*, r9, 1.0, r16>\nI16:  <if greater, 8.0, r32>\nI17:  <-, r3, r7, 10.0>\nI18:  </, r14, r9, r11>\nI19:  <if greater, 10.0, r13>\nI20:  <if greater, 10.0, r25>\nI21:  <if less, r22, 10.0>\nI22:  <-, r3, r10, 10.0>\nI23:  <if less, r4, r10>\nI24:  <^, r17, r8, r14>\nI25:  <if less, r40, 2.0>\nI26:  <*, r16, 3.0, r27>\nI27:  <*, r0, r45, r30>\nI28:  <if greater, 10.0, r15>\nI29:  <-, r0, 10.0, r38>\nI30:  <^, r10, r21, 3.0>\nI31:  <*, r0, r45, r21>\nI32:  <if less, r41, 1.0>\nI33:  </, r8, r24, r15>\nI34:  <if greater, r3, r13>\nI35:  <^, r12, r21, 3.0>\nI36:  <*, r15, r7, 10.0>\nI37:  <*, r0, r45, r21>\nI38:  <*, r9, 1.0, r16>\nI39:  <if greater, 10.0, r19>\nI40:  <+, r3, r7, 10.0>\nI41:  </, r14, 10.0, r11>\nI42:  <*, r0, r45, r30>\nI43:  <^, r17, 1.0, r17>\nI44:  </, r13, r47, r7>\nI45:  <^, r3, r23, 3.0>\nI46:  <-, r14, 2.0, r39>\nI47:  <^, r17, 1.0, r17>\nI48:  </, r13, r47, 10.0>\nI49:  <-, r14, 2.0, r39>\nI50:  </, r6, r36, 8.0>\n\n"
     ],
     "output_type": "stream"
    }
   ],
   "source": [
    "print(lgp.bestProgStr_)"
   ],
   "metadata": {
    "collapsed": false,
    "pycharm": {
     "name": "#%%\n",
     "is_executing": false
    }
   }
  },
  {
   "cell_type": "code",
   "execution_count": 8,
   "outputs": [
    {
     "name": "stdout",
     "text": [
      "I0:  <*, r0, r45, r30>\n\n"
     ],
     "output_type": "stream"
    }
   ],
   "source": [
    "print(lgp.bestEffProgStr_)"
   ],
   "metadata": {
    "collapsed": false,
    "pycharm": {
     "name": "#%%\n",
     "is_executing": false
    }
   }
  },
  {
   "cell_type": "code",
   "execution_count": 9,
   "outputs": [],
   "source": [
    "y_pred = lgp.predict(X_test)\n"
   ],
   "metadata": {
    "collapsed": false,
    "pycharm": {
     "name": "#%%\n",
     "is_executing": false
    }
   }
  },
  {
   "cell_type": "code",
   "execution_count": 12,
   "outputs": [
    {
     "name": "stdout",
     "text": [
      "0.916083916083916\n"
     ],
     "output_type": "stream"
    }
   ],
   "source": [
    "from sklearn.metrics import accuracy_score\n",
    "print(accuracy_score(y_test, y_pred))"
   ],
   "metadata": {
    "collapsed": false,
    "pycharm": {
     "name": "#%%\n",
     "is_executing": false
    }
   }
  },
  {
   "cell_type": "code",
   "execution_count": 10,
   "outputs": [
    {
     "name": "stdout",
     "text": [
      "              precision    recall  f1-score   support\n\n           0       0.98      0.79      0.88        53\n           1       0.89      0.99      0.94        90\n\n    accuracy                           0.92       143\n   macro avg       0.93      0.89      0.91       143\nweighted avg       0.92      0.92      0.91       143\n\n"
     ],
     "output_type": "stream"
    }
   ],
   "source": [
    "from sklearn.metrics import classification_report\n",
    "print(classification_report(y_test, y_pred))"
   ],
   "metadata": {
    "collapsed": false,
    "pycharm": {
     "name": "#%%\n",
     "is_executing": false
    }
   }
  },
  {
   "cell_type": "code",
   "execution_count": 9,
   "outputs": [
    {
     "data": {
      "text/plain": "<Figure size 432x288 with 1 Axes>",
      "image/png": "[encoded data removed]"
     },
     "metadata": {
      "needs_background": "light"
     },
     "output_type": "display_data"
    }
   ],
   "source": [
    "# draw ROC curve\n",
    "from sklearn.metrics import plot_roc_curve\n",
    "svc_disp = plot_roc_curve(lgp, X_test, y_test)\n",
    "plt.show()\n"
   ],
   "metadata": {
    "collapsed": false,
    "pycharm": {
     "name": "#%%\n",
     "is_executing": false
    }
   }
  },
  {
   "cell_type": "code",
   "execution_count": null,
   "outputs": [],
   "source": [
    "\n"
   ],
   "metadata": {
    "collapsed": false,
    "pycharm": {
     "name": "#%%\n"
    }
   }
  }
 ],
 "metadata": {
  "kernelspec": {
   "display_name": "Python 3",
   "language": "python",
   "name": "python3"
  },
  "language_info": {
   "codemirror_mode": {
    "name": "ipython",
    "version": 2
   },
   "file_extension": ".py",
   "mimetype": "text/x-python",
   "name": "python",
   "nbconvert_exporter": "python",
   "pygments_lexer": "ipython2",
   "version": "2.7.6"
  },
  "pycharm": {
   "stem_cell": {
    "cell_type": "raw",
    "source": [],
    "metadata": {
     "collapsed": false
    }
   }
  }
 },
 "nbformat": 4,
 "nbformat_minor": 0
}