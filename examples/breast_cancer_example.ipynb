{
 "cells": [
  {
   "cell_type": "code",
   "execution_count": 1,
   "metadata": {
    "collapsed": true,
    "pycharm": {
     "is_executing": false
    }
   },
   "outputs": [],
   "source": [
    "import matplotlib.pyplot as plt\n",
    "from linear_genetic_programming.lgp_classifier import LGPClassifier\n",
    "from sklearn.metrics import accuracy_score\n",
    "from sklearn.model_selection import train_test_split\n",
    "from sklearn.datasets import load_breast_cancer\n",
    "from sklearn.preprocessing import MinMaxScaler"
   ]
  },
  {
   "cell_type": "code",
   "execution_count": 2,
   "outputs": [],
   "source": [
    "X, y = load_breast_cancer(return_X_y=True)\n",
    "# normalize\n",
    "scaler = MinMaxScaler((-1, 1))\n",
    "X = scaler.fit_transform(X)\n",
    "X_train, X_test, y_train, y_test = train_test_split(X, y, test_size=0.25, random_state=0)"
   ],
   "metadata": {
    "collapsed": false,
    "pycharm": {
     "name": "#%%\n",
     "is_executing": false
    }
   }
  },
  {
   "cell_type": "code",
   "execution_count": 3,
   "outputs": [],
   "source": [
    "lgp = LGPClassifier(numberOfInput = X_train.shape[1], numberOfVariable = 18, populationSize = 200,\n",
    "                    maxGeneration = 20, showGenerationStat = True, tournamentSize=8, isRandomSampling=True) "
   ],
   "metadata": {
    "collapsed": false,
    "pycharm": {
     "name": "#%%\n",
     "is_executing": false
    }
   }
  },
  {
   "cell_type": "code",
   "execution_count": 4,
   "outputs": [
    {
     "name": "stdout",
     "text": [
      "Gen|Best Indv|  CE  |Pop Avg|Ran Sampling|AvgProgLen|AvgEffProgLen\n--- --------- ------ ------- ------------ ---------- -------------\n",
      "  0|     0.94|    17|   0.90|         279|     22.95|         1.57\n",
      "  1|     0.95|    11|   0.92|         418|     24.03|         1.42\n",
      "  2|     0.95|    11|   0.92|         314|     23.43|         1.49\n",
      "  3|     0.95|    11|   0.92|         214|     23.93|         1.55\n",
      "  4|     0.95|    11|   0.91|         229|     21.66|         1.53\n",
      "  5|     0.95|    11|   0.92|         374|     21.34|         1.50\n",
      "  6|     0.95|    11|   0.92|         267|     21.40|         1.57\n",
      "  7|     0.95|    11|   0.91|         228|     20.59|         1.50\n",
      "  8|     0.95|    11|   0.92|         222|     20.23|         1.53\n",
      "  9|     0.95|    11|   0.92|         418|     20.29|         1.53\n",
      " 10|     0.95|    11|   0.92|         341|     19.70|         1.47\n",
      " 11|     0.95|    11|   0.93|         359|     19.09|         1.46\n",
      " 12|     0.95|    11|   0.92|         240|     19.90|         1.52\n",
      " 13|     0.95|    10|   0.93|         386|     19.43|         1.46\n",
      " 14|     0.96|    11|   0.92|         328|     20.55|         1.56\n",
      " 15|     0.96|    11|   0.92|         400|     18.55|         1.46\n",
      " 16|     0.96|    11|   0.93|         307|     19.09|         1.43\n",
      " 17|     0.96|    11|   0.92|         374|     19.21|         1.45\n",
      " 18|     0.96|    11|   0.93|         229|     19.17|         1.47\n",
      " 19|     0.96|    11|   0.93|         318|     19.61|         1.44\n"
     ],
     "output_type": "stream"
    },
    {
     "data": {
      "text/plain": "LGPClassifier(constInitRange=(1, 11, 1), fitnessThreshold=1.0,\n              isRandomSampling=True, maxGeneration=20, maxProgLength=300,\n              max_prog_ini_length=30, minProgLength=10, min_prog_ini_length=10,\n              numberOfConstant=9, numberOfInput=30, numberOfOperation=5,\n              numberOfVariable=18, pConst=0.5, pCrossover=0.75, pInsert=0.5,\n              pMacro=0.75, pMicro=0.5, pRegmut=0.6, populationSize=200,\n              showGenerationStat=True, tournamentSize=8)"
     },
     "metadata": {},
     "output_type": "execute_result",
     "execution_count": 4
    }
   ],
   "source": [
    "lgp.fit(X_train, y_train)\n"
   ],
   "metadata": {
    "collapsed": false,
    "pycharm": {
     "name": "#%%\n",
     "is_executing": false
    }
   }
  },
  {
   "cell_type": "code",
   "execution_count": 5,
   "outputs": [
    {
     "name": "stdout",
     "text": [
      "I0:  <if greater, r23, 4.0>\nI1:  <if greater, r47, r37>\nI2:  <-, r2, r12, r25>\nI3:  <*, r0, 10.0, r6>\nI4:  <if less, r25, r46>\nI5:  <if less, r31, r32>\nI6:  <if greater, r10, r36>\nI7:  <+, r8, 5.0, r33>\nI8:  <if greater, 4.0, r44>\nI9:  <+, r6, 4.0, r29>\nI10:  <if less, r30, r20>\nI11:  <*, r0, r45, r3>\nI12:  </, r4, 2.0, r4>\nI13:  <if greater, r47, r31>\nI14:  <if less, r44, r29>\nI15:  <if less, r15, 1.0>\nI16:  <-, r2, r6, r35>\nI17:  <+, r12, 8.0, r47>\nI18:  <if less, 5.0, r15>\nI19:  <^, r8, 5.0, r32>\nI20:  </, r14, r1, 6.0>\nI21:  <if greater, 8.0, r11>\nI22:  </, r6, r42, r7>\nI23:  <^, r15, r33, r17>\nI24:  <if greater, r25, r1>\nI25:  </, r6, r42, r7>\nI26:  <if greater, r36, r1>\nI27:  <^, r15, r33, r17>\nI28:  <if greater, r25, r1>\nI29:  <if less, r30, r20>\nI30:  <*, r0, r45, r3>\nI31:  <if greater, r10, r36>\nI32:  <if less, r28, 4.0>\nI33:  <if greater, 1.0, r23>\nI34:  <if less, r47, 8.0>\nI35:  <-, r6, r25, 7.0>\nI36:  <+, r14, 5.0, r8>\nI37:  <if greater, r28, 4.0>\nI38:  <-, r10, r15, r46>\n\n"
     ],
     "output_type": "stream"
    }
   ],
   "source": [
    "print(lgp.bestProgStr_)"
   ],
   "metadata": {
    "collapsed": false,
    "pycharm": {
     "name": "#%%\n",
     "is_executing": false
    }
   }
  },
  {
   "cell_type": "code",
   "execution_count": 6,
   "outputs": [
    {
     "name": "stdout",
     "text": [
      "I0:  <if greater, r25, r1>\nI1:  <if less, r30, r20>\nI2:  <*, r0, r45, r3>\n\n"
     ],
     "output_type": "stream"
    }
   ],
   "source": [
    "print(lgp.bestEffProgStr_)"
   ],
   "metadata": {
    "collapsed": false,
    "pycharm": {
     "name": "#%%\n",
     "is_executing": false
    }
   }
  },
  {
   "cell_type": "code",
   "execution_count": 7,
   "outputs": [],
   "source": [
    "y_pred = lgp.predict(X_test)\n"
   ],
   "metadata": {
    "collapsed": false,
    "pycharm": {
     "name": "#%%\n",
     "is_executing": false
    }
   }
  },
  {
   "cell_type": "code",
   "execution_count": 8,
   "outputs": [
    {
     "name": "stdout",
     "text": [
      "              precision    recall  f1-score   support\n\n           0       0.98      0.79      0.88        53\n           1       0.89      0.99      0.94        90\n\n    accuracy                           0.92       143\n   macro avg       0.93      0.89      0.91       143\nweighted avg       0.92      0.92      0.91       143\n\n"
     ],
     "output_type": "stream"
    }
   ],
   "source": [
    "from sklearn.metrics import classification_report\n",
    "print(classification_report(y_test, y_pred))"
   ],
   "metadata": {
    "collapsed": false,
    "pycharm": {
     "name": "#%%\n",
     "is_executing": false
    }
   }
  },
  {
   "cell_type": "code",
   "execution_count": 9,
   "outputs": [
    {
     "data": {
      "text/plain": "<Figure size 432x288 with 1 Axes>",
      "image/png": "[encoded data removed]"
     },
     "metadata": {
      "needs_background": "light"
     },
     "output_type": "display_data"
    }
   ],
   "source": [
    "\n",
    "from sklearn.metrics import plot_roc_curve\n",
    "svc_disp = plot_roc_curve(lgp, X_test, y_test)\n",
    "plt.show()\n",
    "\n"
   ],
   "metadata": {
    "collapsed": false,
    "pycharm": {
     "name": "#%%\n",
     "is_executing": false
    }
   }
  }
 ],
 "metadata": {
  "kernelspec": {
   "display_name": "Python 3",
   "language": "python",
   "name": "python3"
  },
  "language_info": {
   "codemirror_mode": {
    "name": "ipython",
    "version": 2
   },
   "file_extension": ".py",
   "mimetype": "text/x-python",
   "name": "python",
   "nbconvert_exporter": "python",
   "pygments_lexer": "ipython2",
   "version": "2.7.6"
  },
  "pycharm": {
   "stem_cell": {
    "cell_type": "raw",
    "source": [],
    "metadata": {
     "collapsed": false
    }
   }
  }
 },
 "nbformat": 4,
 "nbformat_minor": 0
}